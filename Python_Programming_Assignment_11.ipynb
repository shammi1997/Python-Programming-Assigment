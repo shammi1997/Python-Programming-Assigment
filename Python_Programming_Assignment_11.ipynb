{
  "nbformat": 4,
  "nbformat_minor": 0,
  "metadata": {
    "colab": {
      "provenance": []
    },
    "kernelspec": {
      "name": "python3",
      "display_name": "Python 3"
    },
    "language_info": {
      "name": "python"
    }
  },
  "cells": [
    {
      "cell_type": "code",
      "execution_count": 1,
      "metadata": {
        "colab": {
          "base_uri": "https://localhost:8080/"
        },
        "id": "HcLLFeIyStd9",
        "outputId": "32b5a775-4c8e-4930-beb4-f5f3fbb39afc"
      },
      "outputs": [
        {
          "output_type": "stream",
          "name": "stdout",
          "text": [
            "Enter the string: INeuron Full Stack Data Science Course is Awesome\n",
            "Enter the length of the string: 5\n",
            "INeuron,Science,Course,Awesome\n"
          ]
        }
      ],
      "source": [
        "#1. Write a Python program to find words which are greater than given length k ?\n",
        "\n",
        "\n",
        "def checkLengthOfString():\n",
        "    in_string = input(\"Enter the string: \")\n",
        "    in_length = int(input('Enter the length of the string: '))\n",
        "    out_string = []\n",
        "    for string in in_string.split(\" \"):\n",
        "        if len(string) > in_length:\n",
        "            out_string.append(string)\n",
        "    print(','.join(out_string))\n",
        "\n",
        "checkLengthOfString()"
      ]
    },
    {
      "cell_type": "code",
      "source": [
        "#2. Write a Python program for removing i-th character from a string ?\n",
        "\n",
        "\n",
        "def removeCharacter():\n",
        "    in_string = input(\"Enter the String: \")\n",
        "    in_char_num = int(input(\"Enter the ith Character: \"))\n",
        "    out_string = ''\n",
        "    for ele in range(len(in_string)):\n",
        "        if ele != in_char_num:\n",
        "            out_string = out_string + in_string[ele]\n",
        "    print(out_string)\n",
        "\n",
        "removeCharacter()"
      ],
      "metadata": {
        "colab": {
          "base_uri": "https://localhost:8080/"
        },
        "id": "GShxu4vQT7oy",
        "outputId": "262974eb-e82c-492d-9994-9dedeee95cec"
      },
      "execution_count": 2,
      "outputs": [
        {
          "output_type": "stream",
          "name": "stdout",
          "text": [
            "Enter the String: ineuron\n",
            "Enter the ith Character: 1\n",
            "ieuron\n"
          ]
        }
      ]
    },
    {
      "cell_type": "code",
      "source": [
        "#3. Write a Python program to split and join a string ?\n",
        "\n",
        "\n",
        "def splitJoinString():\n",
        "    in_string = input('Enter the string: ')\n",
        "    print(f\"Split String: {in_string.split(' ')}\")\n",
        "    print(f\"Join String: {' '.join(in_string.split(' '))}\")\n",
        "\n",
        "splitJoinString()"
      ],
      "metadata": {
        "colab": {
          "base_uri": "https://localhost:8080/"
        },
        "id": "Xj9AHPGmUOw5",
        "outputId": "cfac6fec-3ccd-4287-ca38-bbdb2f3ab8c8"
      },
      "execution_count": 3,
      "outputs": [
        {
          "output_type": "stream",
          "name": "stdout",
          "text": [
            "Enter the string: Ineuron Full Stack Data Science Course\n",
            "Split String: ['Ineuron', 'Full', 'Stack', 'Data', 'Science', 'Course']\n",
            "Join String: Ineuron Full Stack Data Science Course\n"
          ]
        }
      ]
    },
    {
      "cell_type": "code",
      "source": [
        "#4. Write a Python to check if a given string is binary string or not ?\n",
        "\n",
        "\n",
        "def checkBinary():\n",
        "    in_string = input('Enter the string: ')\n",
        "    stun = 0\n",
        "    for ele in in_string:\n",
        "        if ele in ['0','1']:\n",
        "            stun = 1\n",
        "            continue\n",
        "        else:\n",
        "            stun = 0\n",
        "            break\n",
        "    statement = 'is a binary string' if stun == 1 else 'is not a binart string'\n",
        "    print(f'{in_string} {statement}')\n",
        "\n",
        "checkBinary()\n",
        "checkBinary()\n"
      ],
      "metadata": {
        "colab": {
          "base_uri": "https://localhost:8080/"
        },
        "id": "m_artfGjUa6D",
        "outputId": "ae369265-b8c3-404c-cbfb-e93cb780af6a"
      },
      "execution_count": 4,
      "outputs": [
        {
          "output_type": "stream",
          "name": "stdout",
          "text": [
            "Enter the string: 1234\n",
            "1234 is not a binart string\n",
            "Enter the string: 1010\n",
            "1010 is a binary string\n"
          ]
        }
      ]
    },
    {
      "cell_type": "code",
      "source": [
        "#5. Write a Python program to find uncommon words from two Strings ?\n",
        "\n",
        "\n",
        "def unCommonWords():\n",
        "    in_string_1 = set(input(\"Enter the String 1: \").split(' '))\n",
        "    in_string_2 = set(input(\"Enter the String 2: \").split(' '))\n",
        "    out_string = (in_string_1.union(in_string_2)).difference(in_string_1.intersection(in_string_2))\n",
        "    print(out_string)\n",
        "\n",
        "unCommonWords()"
      ],
      "metadata": {
        "colab": {
          "base_uri": "https://localhost:8080/"
        },
        "id": "j3WKMxXOUllR",
        "outputId": "23dad994-7791-4385-843e-e9875e6f4193"
      },
      "execution_count": 5,
      "outputs": [
        {
          "output_type": "stream",
          "name": "stdout",
          "text": [
            "Enter the String 1: Supervised Learning\n",
            "Enter the String 2: unSupervised Learning\n",
            "{'Supervised', 'unSupervised'}\n"
          ]
        }
      ]
    },
    {
      "cell_type": "code",
      "source": [
        "#6. Write a Python to find all duplicate characters in string ?\n",
        "\n",
        "\n",
        "def duplicateChars():\n",
        "    in_string = input('Enter the string: ')\n",
        "    non_duplicate_list = []\n",
        "    duplicate_list = []\n",
        "    for ele in in_string:\n",
        "        if ele not in non_duplicate_list:\n",
        "            non_duplicate_list.append(ele)\n",
        "        else:\n",
        "            duplicate_list.append(ele)\n",
        "    print(f'Duplicate characters are: {list(set(duplicate_list))}')\n",
        "\n",
        "duplicateChars()"
      ],
      "metadata": {
        "colab": {
          "base_uri": "https://localhost:8080/"
        },
        "id": "IlN-wMFjUx3A",
        "outputId": "10e2f2f8-25e1-4cd8-b1fa-737049d618b6"
      },
      "execution_count": 6,
      "outputs": [
        {
          "output_type": "stream",
          "name": "stdout",
          "text": [
            "Enter the string: full stack data science course \n",
            "Duplicate characters are: ['e', 't', 's', ' ', 'l', 'c', 'u', 'a']\n"
          ]
        }
      ]
    },
    {
      "cell_type": "code",
      "source": [
        "#7. Write a Python Program to check if a string contains any special character?\n",
        "\n",
        "\n",
        "\n",
        "def checkSpecialChar():\n",
        "    spl_chars = '[@_!#$%^&*()<>?/\\|}{~:]'\n",
        "    in_num = input('Enter the string: ')\n",
        "    count = 0\n",
        "    char_list = []\n",
        "    for ele in in_num:\n",
        "        if ele in spl_chars:\n",
        "            char_list.append(ele)\n",
        "            count = count+1\n",
        "    print(f'There are {count} Speical Characters in {in_num} which are {char_list}')\n",
        "\n",
        "\n",
        "checkSpecialChar()\n",
        "checkSpecialChar()"
      ],
      "metadata": {
        "colab": {
          "base_uri": "https://localhost:8080/"
        },
        "id": "IdnQ-WlCVAZf",
        "outputId": "fdcd46a6-114a-4314-b837-13f021c31572"
      },
      "execution_count": 7,
      "outputs": [
        {
          "output_type": "stream",
          "name": "stdout",
          "text": [
            "Enter the string: DS @ Ineuron by Sudhanshu & krish\n",
            "There are 2 Speical Characters in DS @ Ineuron by Sudhanshu & krish which are ['@', '&']\n",
            "Enter the string: Full Metal Alchemist : Brotherhood\n",
            "There are 1 Speical Characters in Full Metal Alchemist : Brotherhood which are [':']\n"
          ]
        }
      ]
    },
    {
      "cell_type": "code",
      "source": [],
      "metadata": {
        "id": "BYJ883pXVLbQ"
      },
      "execution_count": null,
      "outputs": []
    }
  ]
}