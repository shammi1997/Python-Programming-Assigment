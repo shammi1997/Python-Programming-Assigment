{
  "nbformat": 4,
  "nbformat_minor": 0,
  "metadata": {
    "colab": {
      "provenance": [],
      "gpuType": "T4"
    },
    "kernelspec": {
      "name": "python3",
      "display_name": "Python 3"
    },
    "language_info": {
      "name": "python"
    },
    "accelerator": "GPU"
  },
  "cells": [
    {
      "cell_type": "code",
      "execution_count": 1,
      "metadata": {
        "colab": {
          "base_uri": "https://localhost:8080/"
        },
        "id": "WVpP8F29tX8x",
        "outputId": "b7c45a2d-a837-4b3d-b9f4-e273512ad7b9"
      },
      "outputs": [
        {
          "output_type": "stream",
          "name": "stdout",
          "text": [
            "The LCM of 3,6 is 6\n",
            "The LCM of 5,2 is 10\n",
            "The LCM of 5,100 is 100\n"
          ]
        }
      ],
      "source": [
        "#1. Write a Python Program to find LCM ?\n",
        "\n",
        "\n",
        "\n",
        "def findTheLcm(x_term,y_term):\n",
        "    if x_term > y_term:\n",
        "        greater = x_term\n",
        "    else:\n",
        "        greater = x_term\n",
        "    while True:\n",
        "        if((greater%x_term == 0) and (greater%y_term == 0)):\n",
        "            lcm = greater\n",
        "            break\n",
        "        else:\n",
        "            greater +=1\n",
        "    print(f'The LCM of {x_term},{y_term} is {lcm}')\n",
        "\n",
        "findTheLcm(3,6)\n",
        "findTheLcm(5,2)\n",
        "findTheLcm(5,100)"
      ]
    },
    {
      "cell_type": "code",
      "source": [
        "#2. Write a Python Program to find HCF ?\n",
        "\n",
        "\n",
        "\n",
        "def findTheHcf(x_term,y_term):\n",
        "    if x_term>y_term:\n",
        "        smaller = y_term\n",
        "    else:\n",
        "        smaller = x_term\n",
        "    for ele in range(1,smaller+1):\n",
        "        if((x_term%ele == 0) and (y_term%ele == 0)):\n",
        "            hcf = ele\n",
        "    print(f'The HCF of {x_term},{y_term} is {hcf}')\n",
        "\n",
        "findTheHcf(6,12)\n",
        "findTheHcf(2,3)\n",
        "findTheHcf(10,23)"
      ],
      "metadata": {
        "colab": {
          "base_uri": "https://localhost:8080/"
        },
        "id": "kL9vd6Thtn6C",
        "outputId": "5ea3382b-925d-4176-e196-233cd512a39f"
      },
      "execution_count": 2,
      "outputs": [
        {
          "output_type": "stream",
          "name": "stdout",
          "text": [
            "The HCF of 6,12 is 6\n",
            "The HCF of 2,3 is 1\n",
            "The HCF of 10,23 is 1\n"
          ]
        }
      ]
    },
    {
      "cell_type": "code",
      "source": [
        "#3. Write a Python Program to Convert Decimal to Binary, Octal and Hexadecimal ?\n",
        "\n",
        "\n",
        "\n",
        "def DecimalToOther():\n",
        "    num = int(input('Enter a Number: '))\n",
        "    print(f'Binary Number -> {bin(num)}')\n",
        "    print(f'Octal Number -> {oct(num)}')\n",
        "    print(f'Hexadecimal Number -> {hex(num)}')\n",
        "\n",
        "DecimalToOther()"
      ],
      "metadata": {
        "colab": {
          "base_uri": "https://localhost:8080/"
        },
        "id": "LVo0pGubt_RN",
        "outputId": "326a356f-8f17-43f2-c801-799961730a38"
      },
      "execution_count": 3,
      "outputs": [
        {
          "output_type": "stream",
          "name": "stdout",
          "text": [
            "Enter a Number: 4\n",
            "Binary Number -> 0b100\n",
            "Octal Number -> 0o4\n",
            "Hexadecimal Number -> 0x4\n"
          ]
        }
      ]
    },
    {
      "cell_type": "code",
      "source": [
        "#4. Write a Python Program to Find the ASCII value of a Character ?\n",
        "\n",
        "\n",
        "\n",
        "def charToAscii():\n",
        "    char = input('Enter a Character: ')\n",
        "    if len(char) > 1:\n",
        "        print('Please Enter a Single Character')\n",
        "    else:\n",
        "        print(f'Ascii Character of {char} is {ord(char)}')\n",
        "\n",
        "charToAscii()"
      ],
      "metadata": {
        "colab": {
          "base_uri": "https://localhost:8080/"
        },
        "id": "ILsavy8quE8U",
        "outputId": "d95b37cb-908b-4628-d1db-ec8c2271ad3f"
      },
      "execution_count": 5,
      "outputs": [
        {
          "output_type": "stream",
          "name": "stdout",
          "text": [
            "Enter a Character: h\n",
            "Ascii Character of h is 104\n"
          ]
        }
      ]
    },
    {
      "cell_type": "code",
      "source": [
        "#5. Write a Python Program to Make a Simple Calculator with 4 Basic Mathematical operations ?\n",
        "\n",
        "\n",
        "\n",
        "import operator\n",
        "\n",
        "ops = { \"+\": operator.add, \"-\": operator.sub, \"*\":operator.mul, \"/\":operator.truediv }\n",
        "\n",
        "print('Select a Arithmetic Operation: \\\n",
        "        \\n1.Addition(+)\\\n",
        "        \\n2.Division(-)\\\n",
        "        \\n2.Multiplication(*)\\\n",
        "        \\n4.Division(/)\\\n",
        "        \\n3.Stop(0)\\n')\n",
        "\n",
        "\n",
        "while True:\n",
        "    operator = input('Enter a arithmetic operation -> ')\n",
        "    if operator == '0':\n",
        "        print(\"Program Stopped successfully\")\n",
        "        break\n",
        "    elif operator not in ['+','-','*','/']:\n",
        "        print(\"Please enter a valid operator\")\n",
        "    else:\n",
        "        num_1 = int(input('\\nEnter 1st Number: '))\n",
        "        num_2 = int(input('Enter 2nd Number: '))\n",
        "        print(f'{num_1}{operator}{num_2}={ops[operator](num_1,num_2)}\\n')"
      ],
      "metadata": {
        "colab": {
          "base_uri": "https://localhost:8080/"
        },
        "id": "YMWl9Dh9uMFP",
        "outputId": "9e6b767d-8265-4987-d0c4-78bba90cd229"
      },
      "execution_count": null,
      "outputs": [
        {
          "output_type": "stream",
          "name": "stdout",
          "text": [
            "Select a Arithmetic Operation:         \n",
            "1.Addition(+)        \n",
            "2.Division(-)        \n",
            "2.Multiplication(*)        \n",
            "4.Division(/)        \n",
            "3.Stop(0)\n",
            "\n",
            "Enter a arithmetic operation -> +\n",
            "\n",
            "Enter 1st Number: 6\n",
            "Enter 2nd Number: 8\n",
            "6+8=14\n",
            "\n"
          ]
        }
      ]
    },
    {
      "cell_type": "code",
      "source": [],
      "metadata": {
        "id": "oxx_8q_uuYc1"
      },
      "execution_count": null,
      "outputs": []
    }
  ]
}