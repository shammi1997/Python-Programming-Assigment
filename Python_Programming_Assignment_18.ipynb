{
  "nbformat": 4,
  "nbformat_minor": 0,
  "metadata": {
    "colab": {
      "provenance": []
    },
    "kernelspec": {
      "name": "python3",
      "display_name": "Python 3"
    },
    "language_info": {
      "name": "python"
    }
  },
  "cells": [
    {
      "cell_type": "code",
      "execution_count": null,
      "metadata": {
        "id": "cx49e5kTltoT"
      },
      "outputs": [],
      "source": [
        "1.Create a function that takes a list of non-negative integers and strings and return a new list without the strings ?\n",
        "Examples:\n",
        "filter_list([1, 2, \"a\", \"b\"]) ➞ [1, 2]\n",
        "filter_list([1, \"a\", \"b\", 0, 15]) ➞ [1, 0, 15]\n",
        "filter_list([1, 2, \"aasf\", \"1\", \"123\", 123]) ➞ [1, 2, 123]"
      ]
    },
    {
      "cell_type": "code",
      "source": [
        "def filter_list(list):\n",
        "    out_string = []\n",
        "    for ele in list:\n",
        "        if type(ele) == int and ele >= 0:\n",
        "            out_string.append(ele)\n",
        "    return out_string\n",
        "\n",
        "print(f'➞ {filter_list([1, 2, \"a\", \"b\"])}')\n",
        "print(f'➞ {filter_list([1, \"a\", \"b\", 0, 15])}')\n",
        "print(f'➞ {filter_list([1, 2, \"aasf\", \"1\", \"123\", 123])}')"
      ],
      "metadata": {
        "colab": {
          "base_uri": "https://localhost:8080/"
        },
        "id": "z-u5LSjUmEGE",
        "outputId": "240d9fbb-f8de-4a1e-ae98-966b977334c6"
      },
      "execution_count": 1,
      "outputs": [
        {
          "output_type": "stream",
          "name": "stdout",
          "text": [
            "➞ [1, 2]\n",
            "➞ [1, 0, 15]\n",
            "➞ [1, 2, 123]\n"
          ]
        }
      ]
    },
    {
      "cell_type": "code",
      "source": [
        "2. The \"Reverser\" takes a string as input and returns that string in reverse order, with the opposite case ?\n",
        "Examples:\n",
        "reverse(\"Hello World\") ➞ \"DLROw OLLEh\"\n",
        "reverse(\"ReVeRsE\") ➞ \"eSrEvEr\"\n",
        "reverse(\"Radar\") ➞ \"RADAr\""
      ],
      "metadata": {
        "id": "2Qts9Er5mHrb"
      },
      "execution_count": null,
      "outputs": []
    },
    {
      "cell_type": "code",
      "source": [
        "def reverse(in_string):\n",
        "    print(f'{in_string} ➞ {in_string[::-1].swapcase()}')\n",
        "\n",
        "reverse('Hello World')\n",
        "reverse(\"ReVeRsE\")\n",
        "reverse(\"Radar\")"
      ],
      "metadata": {
        "colab": {
          "base_uri": "https://localhost:8080/"
        },
        "id": "zBWR64-DmLPD",
        "outputId": "a69985d0-57b1-4040-ff9b-a1c8b58522a5"
      },
      "execution_count": 2,
      "outputs": [
        {
          "output_type": "stream",
          "name": "stdout",
          "text": [
            "Hello World ➞ DLROw OLLEh\n",
            "ReVeRsE ➞ eSrEvEr\n",
            "Radar ➞ RADAr\n"
          ]
        }
      ]
    },
    {
      "cell_type": "code",
      "source": [
        "3.You can assign variables from lists like this:\n",
        "lst = [1, 2, 3, 4, 5, 6] first = lst[0] middle = lst[1:-1] last = lst[-1] print(first) ➞ outputs 1 print(middle) ➞ outputs [2, 3, 4, 5] print(last) ➞ outputs 6\n",
        "With Python 3, you can assign variables from lists in a much more succinct way. Create variables first, middle and last from the given list using destructuring assignment\n",
        "(check the Resources tab for some examples), where:\n",
        "first ➞ 1 middle ➞ [2, 3, 4, 5] last ➞ 6\n",
        "Your task is to unpack the list writeyourcodehere into three variables, being first, middle, and last, with middle being everything in between the first and last element. Then print all three variables."
      ],
      "metadata": {
        "id": "oEfeHbptmPFD"
      },
      "execution_count": null,
      "outputs": []
    },
    {
      "cell_type": "code",
      "source": [
        "first, *middle, last = [1,2,3,4,5,6]\n",
        "print(f'first ➞ {first}')\n",
        "print(f'middle ➞ {middle}')\n",
        "print(f'last ➞ {last}')"
      ],
      "metadata": {
        "colab": {
          "base_uri": "https://localhost:8080/"
        },
        "id": "SNoV1w4emSPj",
        "outputId": "6b59de0b-e66e-4f81-84a1-49b09a78b29f"
      },
      "execution_count": 3,
      "outputs": [
        {
          "output_type": "stream",
          "name": "stdout",
          "text": [
            "first ➞ 1\n",
            "middle ➞ [2, 3, 4, 5]\n",
            "last ➞ 6\n"
          ]
        }
      ]
    },
    {
      "cell_type": "code",
      "source": [
        "4.Write a function that calculates the factorial of a number recursively.\n",
        "Examples:\n",
        "factorial(5) ➞ 120\n",
        "factorial(3) ➞ 6\n",
        "factorial(1) ➞ 1\n",
        "factorial(0) ➞ 1"
      ],
      "metadata": {
        "id": "8bQUvRPWmX4F"
      },
      "execution_count": null,
      "outputs": []
    },
    {
      "cell_type": "code",
      "source": [
        "def factorial(n):\n",
        "    if n==0:\n",
        "        return 1\n",
        "    return n * factorial(n-1)\n",
        "\n",
        "print(f'factorial(5) ➞ {factorial(5)}')\n",
        "print(f'factorial(3) ➞ {factorial(3)}')\n",
        "print(f'factorial(1) ➞ {factorial(1)}')\n",
        "print(f'factorial(0) ➞ {factorial(0)}')"
      ],
      "metadata": {
        "colab": {
          "base_uri": "https://localhost:8080/"
        },
        "id": "N5aACcZxmZEr",
        "outputId": "3b32cfce-66a7-4b3c-abe7-b18729b13dd6"
      },
      "execution_count": 4,
      "outputs": [
        {
          "output_type": "stream",
          "name": "stdout",
          "text": [
            "factorial(5) ➞ 120\n",
            "factorial(3) ➞ 6\n",
            "factorial(1) ➞ 1\n",
            "factorial(0) ➞ 1\n"
          ]
        }
      ]
    },
    {
      "cell_type": "code",
      "source": [
        "5.Write a function that moves all elements of one type to the end of the list.\n",
        "Examples:\n",
        "move_to_end([1, 3, 2, 4, 4, 1], 1) ➞ [3, 2, 4, 4, 1, 1]\n",
        "# Move all the 1s to the end of the array.\n",
        "move_to_end([7, 8, 9, 1, 2, 3, 4], 9) ➞ [7, 8, 1, 2, 3, 4, 9]\n",
        "move_to_end([\"a\", \"a\", \"a\", \"b\"], \"a\") ➞ [\"b\", \"a\", \"a\", \"a\"]"
      ],
      "metadata": {
        "id": "1dSOj2Azmc4s"
      },
      "execution_count": null,
      "outputs": []
    },
    {
      "cell_type": "code",
      "source": [
        "def move_to_end(list,num):\n",
        "    first_end = []\n",
        "    second_end = []\n",
        "    for ele in list:\n",
        "        if ele == num:\n",
        "            second_end.append(ele)\n",
        "        else:\n",
        "            first_end.append(ele)\n",
        "    first_end.extend(second_end)\n",
        "    return first_end\n",
        "\n",
        "print(f'move_to_end([1, 3, 2, 4, 4, 1], 1) ➞ {move_to_end([1, 3, 2, 4, 4, 1], 1)}')\n",
        "print(f'move_to_end([7, 8, 9, 1, 2, 3, 4], 9) ➞ {move_to_end([7, 8, 9, 1, 2, 3, 4], 9)}')\n",
        "print(f'move_to_end([\"a\", \"a\", \"a\", \"b\"], \"a\") ➞ {move_to_end([\"a\", \"a\", \"a\", \"b\"], \"a\")}')"
      ],
      "metadata": {
        "colab": {
          "base_uri": "https://localhost:8080/"
        },
        "id": "gvHnHqSQmgSE",
        "outputId": "8620fe93-22b9-4490-c25a-aba81bcaed71"
      },
      "execution_count": 5,
      "outputs": [
        {
          "output_type": "stream",
          "name": "stdout",
          "text": [
            "move_to_end([1, 3, 2, 4, 4, 1], 1) ➞ [3, 2, 4, 4, 1, 1]\n",
            "move_to_end([7, 8, 9, 1, 2, 3, 4], 9) ➞ [7, 8, 1, 2, 3, 4, 9]\n",
            "move_to_end([\"a\", \"a\", \"a\", \"b\"], \"a\") ➞ ['b', 'a', 'a', 'a']\n"
          ]
        }
      ]
    }
  ]
}