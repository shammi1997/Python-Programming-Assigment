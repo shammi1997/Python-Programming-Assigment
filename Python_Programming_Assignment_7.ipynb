{
  "nbformat": 4,
  "nbformat_minor": 0,
  "metadata": {
    "colab": {
      "provenance": [],
      "gpuType": "T4"
    },
    "kernelspec": {
      "name": "python3",
      "display_name": "Python 3"
    },
    "language_info": {
      "name": "python"
    },
    "accelerator": "GPU"
  },
  "cells": [
    {
      "cell_type": "code",
      "execution_count": 2,
      "metadata": {
        "colab": {
          "base_uri": "https://localhost:8080/"
        },
        "id": "tfR8m_86Fupm",
        "outputId": "26f776b8-7de0-469d-933d-e43c4a617404"
      },
      "outputs": [
        {
          "output_type": "stream",
          "name": "stdout",
          "text": [
            "Enter the Array: [1,2,3,4,5]\n",
            "The sum of [1, 2, 3, 4, 5] is 15\n"
          ]
        }
      ],
      "source": [
        "#1. Write a Python Program to find sum of Array ?\n",
        "\n",
        "\n",
        "def sumOfArray():\n",
        "    in_arr = eval(input(\"Enter the Array: \"))\n",
        "    print(f'The sum of {in_arr} is {sum(in_arr)}')\n",
        "\n",
        "sumOfArray()"
      ]
    },
    {
      "cell_type": "code",
      "source": [
        "#2. Write a Python Program to find Largest element in an Array ?\n",
        "\n",
        "\n",
        "\n",
        "def largestElement():\n",
        "    in_arr = eval(input(\"Enter the Array: \"))\n",
        "    print(f\"The Largest Element in {in_arr} is {sorted(in_arr, reverse=True)[0]}\")\n",
        "\n",
        "largestElement()"
      ],
      "metadata": {
        "colab": {
          "base_uri": "https://localhost:8080/"
        },
        "id": "wMvDZmnkGTTr",
        "outputId": "e7a1fa0a-4b67-4c9d-b075-57f794df4b81"
      },
      "execution_count": 3,
      "outputs": [
        {
          "output_type": "stream",
          "name": "stdout",
          "text": [
            "Enter the Array: [1,2,3,4,5]\n",
            "The Largest Element in [1, 2, 3, 4, 5] is 5\n"
          ]
        }
      ]
    },
    {
      "cell_type": "code",
      "source": [
        "#3. Write a Python Program for array rotation ?\n",
        "\n",
        "\n",
        "def reverseOfArray():\n",
        "    in_arr = eval(input(\"Enter the Array: \"))\n",
        "    print(f\"The Reverse of Array {in_arr} is {in_arr[::-1]}\")\n",
        "\n",
        "reverseOfArray()"
      ],
      "metadata": {
        "colab": {
          "base_uri": "https://localhost:8080/"
        },
        "id": "vJllcsvsGzdK",
        "outputId": "8675971f-35be-4f16-e46e-ec64a2f47359"
      },
      "execution_count": 4,
      "outputs": [
        {
          "output_type": "stream",
          "name": "stdout",
          "text": [
            "Enter the Array: [12,16,11,13,30]\n",
            "The Reverse of Array [12, 16, 11, 13, 30] is [30, 13, 11, 16, 12]\n"
          ]
        }
      ]
    },
    {
      "cell_type": "code",
      "source": [
        "#4. Write a Python Program to Split the array and add the first part to the end ?\n",
        "\n",
        "\n",
        "\n",
        "def sumOfSplits():\n",
        "    in_arr = eval(input(\"Enter the Array: \"))\n",
        "    print(f\"The Sum of First and Last Elements of Array {in_arr} is {in_arr[0]+in_arr[-1]}\")\n",
        "\n",
        "sumOfSplits()"
      ],
      "metadata": {
        "colab": {
          "base_uri": "https://localhost:8080/"
        },
        "id": "UDuRRRKHG7mz",
        "outputId": "5da2fb33-7ebb-41e6-c58a-c45440bea2a4"
      },
      "execution_count": 5,
      "outputs": [
        {
          "output_type": "stream",
          "name": "stdout",
          "text": [
            "Enter the Array: [10,13,14,9,18]\n",
            "The Sum of First and Last Elements of Array [10, 13, 14, 9, 18] is 28\n"
          ]
        }
      ]
    },
    {
      "cell_type": "code",
      "source": [
        "#5. Write a Python Program to check if given array is Monotonic ?\n",
        "\n",
        "\n",
        "def checkMonotonic():\n",
        "    in_arr = eval(input(\"Enter the Array: \"))\n",
        "    if(all(in_arr[i]<=in_arr[i+1] for i in range(len(in_arr)-1)) or all(in_arr[i]>=in_arr[i+1] for i in range(len(in_arr)-1))):\n",
        "        print(f'Array {in_arr} is Monotonic')\n",
        "    else:\n",
        "        print(f'Array {in_arr} is Not Monotonic')\n",
        "\n",
        "checkMonotonic()\n",
        "checkMonotonic()"
      ],
      "metadata": {
        "colab": {
          "base_uri": "https://localhost:8080/"
        },
        "id": "aUASRwH6HE0p",
        "outputId": "01374e3e-4e4b-4b4a-ffcb-98bdbaa2f49b"
      },
      "execution_count": 6,
      "outputs": [
        {
          "output_type": "stream",
          "name": "stdout",
          "text": [
            "Enter the Array: [1,2,3,4,5]\n",
            "Array [1, 2, 3, 4, 5] is Monotonic\n",
            "Enter the Array: 4,2,4,5,6,1\n",
            "Array (4, 2, 4, 5, 6, 1) is Not Monotonic\n"
          ]
        }
      ]
    },
    {
      "cell_type": "code",
      "source": [],
      "metadata": {
        "id": "XufqH_0rHRRJ"
      },
      "execution_count": null,
      "outputs": []
    }
  ]
}