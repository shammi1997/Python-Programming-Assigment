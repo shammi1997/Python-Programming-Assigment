{
  "nbformat": 4,
  "nbformat_minor": 0,
  "metadata": {
    "colab": {
      "provenance": []
    },
    "kernelspec": {
      "name": "python3",
      "display_name": "Python 3"
    },
    "language_info": {
      "name": "python"
    }
  },
  "cells": [
    {
      "cell_type": "code",
      "execution_count": 1,
      "metadata": {
        "colab": {
          "base_uri": "https://localhost:8080/"
        },
        "id": "QLJ6AvfHOPsC",
        "outputId": "536ea615-eb9b-478e-ec10-14c070146897"
      },
      "outputs": [
        {
          "output_type": "stream",
          "name": "stdout",
          "text": [
            "Enter the No of Entries in a List: 5\n",
            "Enter a element: 1\n",
            "Enter a element: 2\n",
            "Enter a element: 3\n",
            "Enter a element: 4\n",
            "Enter a element: 5\n",
            "Sum of Elements: 15\n"
          ]
        }
      ],
      "source": [
        "#1.Write a Python Program to find sum of elements in a list ?\n",
        "\n",
        "\n",
        "\n",
        "def sumofList():\n",
        "    in_ele = int(input('Enter the No of Entries in a List: '))\n",
        "    in_list = []\n",
        "    for itr in range(in_ele):\n",
        "        in_list.append(int(input('Enter a element: ')))\n",
        "    print(f'Sum of Elements: {sum(in_list)}')\n",
        "\n",
        "sumofList()"
      ]
    },
    {
      "cell_type": "code",
      "source": [
        "#2.Write a Python Program to multiply all numbers in the list ?\n",
        "\n",
        "\n",
        "def mulofList():\n",
        "    in_ele = int(input('Enter the No of Entries in a List: '))\n",
        "    in_list = []\n",
        "    mul = 1\n",
        "    for itr in range(in_ele):\n",
        "        in_list.append(int(input('Enter a element: ')))\n",
        "    for ele in in_list:\n",
        "        mul = mul * ele\n",
        "    print(mul)\n",
        "\n",
        "mulofList()"
      ],
      "metadata": {
        "colab": {
          "base_uri": "https://localhost:8080/"
        },
        "id": "G8HUT0XPPKVa",
        "outputId": "ebd77f05-a60b-4dc7-b1e2-dd7785bea84b"
      },
      "execution_count": 2,
      "outputs": [
        {
          "output_type": "stream",
          "name": "stdout",
          "text": [
            "Enter the No of Entries in a List: 3\n",
            "Enter a element: 1\n",
            "Enter a element: 2\n",
            "Enter a element: 6\n",
            "12\n"
          ]
        }
      ]
    },
    {
      "cell_type": "code",
      "source": [
        "#2.Write a Python Program to multiply all numbers in the list ?\n",
        "\n",
        "def mulofList():\n",
        "    in_ele = int(input('Enter the No of Entries in a List: '))\n",
        "    in_list = []\n",
        "    mul = 1\n",
        "    for itr in range(in_ele):\n",
        "        in_list.append(int(input('Enter a element: ')))\n",
        "    for ele in in_list:\n",
        "        mul = mul * ele\n",
        "    print(mul)\n",
        "\n",
        "mulofList()"
      ],
      "metadata": {
        "colab": {
          "base_uri": "https://localhost:8080/"
        },
        "id": "kKlAhUapPhAa",
        "outputId": "bcd203d7-bf77-4b5a-e8f9-d83777c8ea17"
      },
      "execution_count": 3,
      "outputs": [
        {
          "output_type": "stream",
          "name": "stdout",
          "text": [
            "Enter the No of Entries in a List: 3\n",
            "Enter a element: 1\n",
            "Enter a element: 4\n",
            "Enter a element: 5\n",
            "20\n"
          ]
        }
      ]
    },
    {
      "cell_type": "code",
      "source": [
        "#3.Write a Python Program to find smallest number in the list ?\n",
        "\n",
        "\n",
        "def smallEleInList():\n",
        "    in_ele = int(input('Enter the No of elements in a list: '))\n",
        "    in_list = []\n",
        "    for ele in range(in_ele):\n",
        "        in_list.append(int(input('Enter a Element: ')))\n",
        "    print(f'The Smallest Element in {in_list} is {sorted(in_list)[0]}')\n",
        "smallEleInList()\n"
      ],
      "metadata": {
        "colab": {
          "base_uri": "https://localhost:8080/"
        },
        "id": "zN7-NZjqQXKi",
        "outputId": "afe854d1-bf77-4ae8-bfb8-26951d203cd1"
      },
      "execution_count": 4,
      "outputs": [
        {
          "output_type": "stream",
          "name": "stdout",
          "text": [
            "Enter the No of elements in a list: 5\n",
            "Enter a Element: 1\n",
            "Enter a Element: 2\n",
            "Enter a Element: 3\n",
            "Enter a Element: 4\n",
            "Enter a Element: 6\n",
            "The Smallest Element in [1, 2, 3, 4, 6] is 1\n"
          ]
        }
      ]
    },
    {
      "cell_type": "code",
      "source": [
        "#4.Write a Python Program to find largest number in the list ?\n",
        "\n",
        "\n",
        "\n",
        "def largestEleInList():\n",
        "    in_ele = int(input('Enter the No of elements in a list: '))\n",
        "    in_list = []\n",
        "    for ele in range(in_ele):\n",
        "        in_list.append(int(input('Enter a Element: ')))\n",
        "    print(f'The Largest Element in {in_list} is {sorted(in_list, reverse=True)[0]}')\n",
        "\n",
        "largestEleInList()"
      ],
      "metadata": {
        "colab": {
          "base_uri": "https://localhost:8080/"
        },
        "id": "gLyRLx9pQjt3",
        "outputId": "e83a3d30-0ea4-47fb-dd52-895430861eee"
      },
      "execution_count": 5,
      "outputs": [
        {
          "output_type": "stream",
          "name": "stdout",
          "text": [
            "Enter the No of elements in a list: 2\n",
            "Enter a Element: 4\n",
            "Enter a Element: 8\n",
            "The Largest Element in [4, 8] is 8\n"
          ]
        }
      ]
    },
    {
      "cell_type": "code",
      "source": [
        "#5.Write a Python Program to find second largest number in the list ?\n",
        "\n",
        "\n",
        "def secondLargestEleInList():\n",
        "    in_ele = int(input('Enter the No of elements in a list: '))\n",
        "    in_list = []\n",
        "    for ele in range(in_ele):\n",
        "        in_list.append(int(input('Enter a Element: ')))\n",
        "    print(f'The Second Largest Element in {in_list} is {sorted(in_list, reverse=True)[1]}')\n",
        "\n",
        "secondLargestEleInList()"
      ],
      "metadata": {
        "colab": {
          "base_uri": "https://localhost:8080/"
        },
        "id": "D-Da2FRRQ291",
        "outputId": "ba5fb881-6e13-45ac-fa13-60d3a19fa6a1"
      },
      "execution_count": 6,
      "outputs": [
        {
          "output_type": "stream",
          "name": "stdout",
          "text": [
            "Enter the No of elements in a list: 3\n",
            "Enter a Element: 1\n",
            "Enter a Element: 2\n",
            "Enter a Element: 3\n",
            "The Second Largest Element in [1, 2, 3] is 2\n"
          ]
        }
      ]
    },
    {
      "cell_type": "code",
      "source": [
        "#6.Write a Python Program to find N largest elements in the list ?\n",
        "\n",
        "\n",
        "def nLargestEleInList(k):\n",
        "    in_ele = int(input('Enter the No of elements in a list: '))\n",
        "    in_list = []\n",
        "    for ele in range(in_ele):\n",
        "        in_list.append(int(input('Enter a Element: ')))\n",
        "    print(f'The {k} Largest Element in {in_list} is {sorted(in_list, reverse=True)[0:k]}')\n",
        "\n",
        "nLargestEleInList(4)"
      ],
      "metadata": {
        "colab": {
          "base_uri": "https://localhost:8080/"
        },
        "id": "l0jJtPLNRAJh",
        "outputId": "10fd9c0a-893d-4660-db61-8ea5b70d779b"
      },
      "execution_count": 7,
      "outputs": [
        {
          "output_type": "stream",
          "name": "stdout",
          "text": [
            "Enter the No of elements in a list: 3\n",
            "Enter a Element: 1\n",
            "Enter a Element: 2\n",
            "Enter a Element: 6\n",
            "The 4 Largest Element in [1, 2, 6] is [6, 2, 1]\n"
          ]
        }
      ]
    },
    {
      "cell_type": "code",
      "source": [
        "#7.Write a Python Program to find even numbers in the list ?\n",
        "\n",
        "\n",
        "def evenNoInList():\n",
        "    in_ele = int(input('Enter the No of elements in a list: '))\n",
        "    in_list = []\n",
        "    even_list = []\n",
        "    for ele in range(in_ele):\n",
        "        in_list.append(int(input('Enter a Element: ')))\n",
        "    for ele in in_list:\n",
        "        if ele%2 == 0:\n",
        "            even_list.append(ele)\n",
        "    print(f'The Even Elements in {in_list} are {even_list}')\n",
        "\n",
        "evenNoInList()"
      ],
      "metadata": {
        "colab": {
          "base_uri": "https://localhost:8080/"
        },
        "id": "mQjhALX5RJzw",
        "outputId": "b04afc75-ac6d-4585-c42e-be0322f98d07"
      },
      "execution_count": 8,
      "outputs": [
        {
          "output_type": "stream",
          "name": "stdout",
          "text": [
            "Enter the No of elements in a list: 2\n",
            "Enter a Element: 1\n",
            "Enter a Element: 2\n",
            "The Even Elements in [1, 2] are [2]\n"
          ]
        }
      ]
    },
    {
      "cell_type": "code",
      "source": [
        "#8.Write a Python Program to find odd numbers in the list ?\n",
        "\n",
        "\n",
        "\n",
        "def oddNoInList():\n",
        "    in_ele = int(input('Enter the No of elements in a list: '))\n",
        "    in_list = []\n",
        "    odd_list = []\n",
        "    for ele in range(in_ele):\n",
        "        in_list.append(int(input('Enter a Element: ')))\n",
        "    for ele in in_list:\n",
        "        if ele%2 != 0:\n",
        "            odd_list.append(ele)\n",
        "    print(f'The Even Elements in {in_list} are {odd_list}')\n",
        "\n",
        "oddNoInList()"
      ],
      "metadata": {
        "colab": {
          "base_uri": "https://localhost:8080/"
        },
        "id": "zau1nOYtRYso",
        "outputId": "76cdf4df-b730-42ef-ba52-1f9f05690635"
      },
      "execution_count": 9,
      "outputs": [
        {
          "output_type": "stream",
          "name": "stdout",
          "text": [
            "Enter the No of elements in a list: 4\n",
            "Enter a Element: 1\n",
            "Enter a Element: 4\n",
            "Enter a Element: 8\n",
            "Enter a Element: 8\n",
            "The Even Elements in [1, 4, 8, 8] are [1]\n"
          ]
        }
      ]
    },
    {
      "cell_type": "code",
      "source": [
        "#9.Write a Python Program to remove empty list from list ?\n",
        "\n",
        "\n",
        "def checkEmptyList():\n",
        "    in_list = eval(input('Enter all elements of the list: '))\n",
        "    if [] in in_list:\n",
        "        print(f'There is an Empty list in {in_list} at Position {in_list.index([])}')\n",
        "        in_list.remove([])\n",
        "        print(f'The List after removing [] is {in_list}')\n",
        "    else:\n",
        "        print(f'There is no [] List in the list {in_list}')\n",
        "\n",
        "checkEmptyList()"
      ],
      "metadata": {
        "colab": {
          "base_uri": "https://localhost:8080/"
        },
        "id": "0g6n7kVcRjN2",
        "outputId": "a4be7fa8-744c-4c95-f9cf-9d533c67fa20"
      },
      "execution_count": 11,
      "outputs": [
        {
          "output_type": "stream",
          "name": "stdout",
          "text": [
            "Enter all elements of the list: [1,2,3,4,5,[],6,7,8,9,0]\n",
            "There is an Empty list in [1, 2, 3, 4, 5, [], 6, 7, 8, 9, 0] at Position 5\n",
            "The List after removing [] is [1, 2, 3, 4, 5, 6, 7, 8, 9, 0]\n"
          ]
        }
      ]
    },
    {
      "cell_type": "code",
      "source": [
        "#10.Write a Python Program to Cloning or Copying a list ?\n",
        "\n",
        "\n",
        "import copy\n",
        "\n",
        "def cloneList():\n",
        "    in_list = eval(input('Enter a list'))\n",
        "    print(in_list, id(in_list))\n",
        "    cloned_list = in_list.copy()\n",
        "    print(cloned_list, id(cloned_list))\n",
        "\n",
        "cloneList()"
      ],
      "metadata": {
        "colab": {
          "base_uri": "https://localhost:8080/"
        },
        "id": "MV9mbbWHRtgy",
        "outputId": "458f8c78-ecce-47a2-cafe-7b5772a77372"
      },
      "execution_count": 12,
      "outputs": [
        {
          "output_type": "stream",
          "name": "stdout",
          "text": [
            "Enter a list[1,2,3,4,5,6,7,8,9,0]\n",
            "[1, 2, 3, 4, 5, 6, 7, 8, 9, 0] 138591284439616\n",
            "[1, 2, 3, 4, 5, 6, 7, 8, 9, 0] 138591328353920\n"
          ]
        }
      ]
    },
    {
      "cell_type": "code",
      "source": [
        "#11.Write a Python Program to count occurences of an element in a list ?\n",
        "\n",
        "\n",
        "def checkOccurence():\n",
        "    in_list = eval(input('Enter the elements of the list: '))\n",
        "    in_num = eval(input('Enter the element to find: '))\n",
        "    count = 0\n",
        "    if in_num in in_list:\n",
        "        for ele in in_list:\n",
        "            if ele == in_num:\n",
        "                count = count+1\n",
        "    print(f'There are {count} occurences of {in_num} in {in_list}')\n",
        "\n",
        "checkOccurence()"
      ],
      "metadata": {
        "colab": {
          "base_uri": "https://localhost:8080/"
        },
        "id": "uXgs_DrqR9GZ",
        "outputId": "f0ec78d4-7281-4ad7-89d9-b9d46a223992"
      },
      "execution_count": 13,
      "outputs": [
        {
          "output_type": "stream",
          "name": "stdout",
          "text": [
            "Enter the elements of the list: [1,2,3,1,2,3,1,2,3,4,5,6,4,5,6]\n",
            "Enter the element to find: 5\n",
            "There are 2 occurences of 5 in [1, 2, 3, 1, 2, 3, 1, 2, 3, 4, 5, 6, 4, 5, 6]\n"
          ]
        }
      ]
    },
    {
      "cell_type": "code",
      "source": [],
      "metadata": {
        "id": "zqOAyedbSHBg"
      },
      "execution_count": null,
      "outputs": []
    }
  ]
}