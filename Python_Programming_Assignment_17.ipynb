{
  "nbformat": 4,
  "nbformat_minor": 0,
  "metadata": {
    "colab": {
      "provenance": []
    },
    "kernelspec": {
      "name": "python3",
      "display_name": "Python 3"
    },
    "language_info": {
      "name": "python"
    }
  },
  "cells": [
    {
      "cell_type": "code",
      "execution_count": null,
      "metadata": {
        "id": "yFjCmAPeigGU"
      },
      "outputs": [],
      "source": [
        "1.Create a function that takes three arguments a, b, c and returns the sum of the numbers that are evenly divided by c from the range a, b inclusive ?\n",
        "Examples:\n",
        "evenly_divisible(1, 10, 20) ➞ 0     # No number between 1 and 10 can be evenly divided by 20. evenly_divisible(1, 10, 2) ➞ 30     # 2 + 4 + 6 + 8 + 10 = 30 evenly_divisible(1, 10, 3) ➞ 18     # 3 + 6 + 9 = 18"
      ]
    },
    {
      "cell_type": "code",
      "source": [
        "def evenDivisible(a,b,c):\n",
        "    divList = []\n",
        "    for num in range(a,b+1):\n",
        "        if num%c == 0:\n",
        "            divList.append(num)\n",
        "    print(f'{a,b,c} ➞ {sum(divList)}')\n",
        "\n",
        "evenDivisible(1,10,20)\n",
        "evenDivisible(1,10,2)\n",
        "evenDivisible(1,10,3)"
      ],
      "metadata": {
        "colab": {
          "base_uri": "https://localhost:8080/"
        },
        "id": "GER41-y7j-Tu",
        "outputId": "5256037f-9404-49fa-eabf-06d14a560cb9"
      },
      "execution_count": 1,
      "outputs": [
        {
          "output_type": "stream",
          "name": "stdout",
          "text": [
            "(1, 10, 20) ➞ 0\n",
            "(1, 10, 2) ➞ 30\n",
            "(1, 10, 3) ➞ 18\n"
          ]
        }
      ]
    },
    {
      "cell_type": "code",
      "source": [
        "2.Create a function that returns True if a given inequality expression is correct and False otherwise ?\n",
        "Examples:\n",
        "correct_signs(\"3 < 7 < 11\") ➞ True\n",
        "correct_signs(\"13 > 44 > 33 > 1\") ➞ False\n",
        "correct_signs(\"1 < 2 < 6 < 9 > 3\") ➞ True"
      ],
      "metadata": {
        "id": "zp8xAE4zkEL0"
      },
      "execution_count": null,
      "outputs": []
    },
    {
      "cell_type": "code",
      "source": [
        "def checkEquality():\n",
        "    in_string = input('Enter the inequality: ')\n",
        "    out_bool = eval(in_string)\n",
        "    print(f'{in_string} ➞ {out_bool}')\n",
        "\n",
        "for x in range(3):\n",
        "    checkEquality()"
      ],
      "metadata": {
        "colab": {
          "base_uri": "https://localhost:8080/"
        },
        "id": "4j9zIXGzkFX8",
        "outputId": "3dfc9c37-618f-4de8-84f3-e81b4c75193c"
      },
      "execution_count": 2,
      "outputs": [
        {
          "output_type": "stream",
          "name": "stdout",
          "text": [
            "Enter the inequality: 3 < 7 < 11\n",
            "3 < 7 < 11 ➞ True\n",
            "Enter the inequality: 13 > 44 > 33 > 1\n",
            "13 > 44 > 33 > 1 ➞ False\n",
            "Enter the inequality: 1 < 2 < 6 < 9 > 3\n",
            "1 < 2 < 6 < 9 > 3 ➞ True\n"
          ]
        }
      ]
    },
    {
      "cell_type": "code",
      "source": [
        "3.Create a function that replaces all the vowels in a string with a specified character ?\n",
        "Examples:\n",
        "replace_vowels(\"the aardvark\", \"#\") ➞ \"th# ##rdv#rk\"\n",
        "replace_vowels(\"minnie mouse\", \"?\") ➞ \"m?nn?? m??s?\"\n",
        "replace_vowels(\"shakespeare\", \"*\") ➞ \"shksp**r\""
      ],
      "metadata": {
        "id": "mp9D-6wEkS3X"
      },
      "execution_count": null,
      "outputs": []
    },
    {
      "cell_type": "code",
      "source": [
        "def replaceVowels():\n",
        "    vowels = ['a','e','i','o','u','A','E','I','O','U']\n",
        "    in_string = input(\"String: \")\n",
        "    in_string_copy = in_string\n",
        "    in_char = input('Replacement character: ')\n",
        "    for ele in in_string:\n",
        "        if ele in vowels:\n",
        "            in_string = in_string.replace(ele,in_char)\n",
        "    print(f'{in_string_copy} {in_char} ➞ {in_string}')\n",
        "\n",
        "for x in range(3):\n",
        "    replaceVowels()\n"
      ],
      "metadata": {
        "colab": {
          "base_uri": "https://localhost:8080/"
        },
        "id": "J0DAKIf-kWnN",
        "outputId": "22f6e8ab-6025-4d87-82ab-362cd0725dde"
      },
      "execution_count": 3,
      "outputs": [
        {
          "output_type": "stream",
          "name": "stdout",
          "text": [
            "String: the aardvark\n",
            "Replacement character: #\n",
            "the aardvark # ➞ th# ##rdv#rk\n",
            "String:  minnie mouse\n",
            "Replacement character: ?\n",
            " minnie mouse ? ➞  m?nn?? m??s?\n",
            "String: shakespeare\n",
            "Replacement character: *\n",
            "shakespeare * ➞ sh*k*sp**r*\n"
          ]
        }
      ]
    },
    {
      "cell_type": "code",
      "source": [
        "4.Write a function that calculates the factorial of a number recursively ?\n",
        "Examples:\n",
        "factorial(5) ➞ 120\n",
        "factorial(3) ➞ 6\n",
        "factorial(1) ➞ 1\n",
        "factorial(0) ➞ 1"
      ],
      "metadata": {
        "id": "mD22B3HbkuZV"
      },
      "execution_count": null,
      "outputs": []
    },
    {
      "cell_type": "code",
      "source": [
        "def factorial(n):\n",
        "    if n==0:\n",
        "        return 1\n",
        "    return n * factorial(n-1)\n",
        "\n",
        "print(f'factorial(5) ➞ {factorial(5)}')\n",
        "print(f'factorial(3) ➞ {factorial(3)}')\n",
        "print(f'factorial(1) ➞ {factorial(1)}')\n",
        "print(f'factorial(0) ➞ {factorial(0)}')"
      ],
      "metadata": {
        "colab": {
          "base_uri": "https://localhost:8080/"
        },
        "id": "oqiN21kHky9M",
        "outputId": "73ce5267-3303-472e-e010-b120d4519e71"
      },
      "execution_count": 4,
      "outputs": [
        {
          "output_type": "stream",
          "name": "stdout",
          "text": [
            "factorial(5) ➞ 120\n",
            "factorial(3) ➞ 6\n",
            "factorial(1) ➞ 1\n",
            "factorial(0) ➞ 1\n"
          ]
        }
      ]
    },
    {
      "cell_type": "code",
      "source": [
        "5.Hamming distance is the number of characters that differ between two strings ?\n",
        "To illustrate:\n",
        "String1: \"abcbba\"\n",
        "String2: \"abcbda\"\n",
        "Hamming Distance: 1 - \"b\" vs. \"d\" is the only difference.\n",
        "Create a function that computes the hamming distance between two strings.\n",
        "Examples:\n",
        "hamming_distance(\"abcde\", \"bcdef\") ➞ 5\n",
        "hamming_distance(\"abcde\", \"abcde\") ➞ 0\n",
        "hamming_distance(\"strong\", \"strung\") ➞ 1"
      ],
      "metadata": {
        "id": "kMixJXLrk3y8"
      },
      "execution_count": null,
      "outputs": []
    },
    {
      "cell_type": "code",
      "source": [
        "def genHamDistance():\n",
        "    in_string_1 = input('Enter the String_1: ')\n",
        "    in_string_2 = input('Enter the String_2: ')\n",
        "    if len(in_string_1) == len(in_string_2):\n",
        "        count = 0\n",
        "        for i in range(len(in_string_1)):\n",
        "            if in_string_1[i] != in_string_2[i]:\n",
        "                count = count+1\n",
        "        print(f'Hamning Distance b/w {in_string_1} and {in_string_2} ➞ {count}')\n",
        "    else:\n",
        "        print('Both Strings Must be of Same Length')\n",
        "\n",
        "for x in range(3):\n",
        "    genHamDistance()"
      ],
      "metadata": {
        "colab": {
          "base_uri": "https://localhost:8080/"
        },
        "id": "5NB6EamMk8O-",
        "outputId": "c41ab3ea-28fe-4018-ee53-44d399197c9e"
      },
      "execution_count": 5,
      "outputs": [
        {
          "output_type": "stream",
          "name": "stdout",
          "text": [
            "Enter the String_1: abcde\n",
            "Enter the String_2: bcdef\n",
            "Hamning Distance b/w abcde and bcdef ➞ 5\n",
            "Enter the String_1: strong\n",
            "Enter the String_2: frtyi\n",
            "Both Strings Must be of Same Length\n",
            "Enter the String_1: apple\n",
            "Enter the String_2: balls\n",
            "Hamning Distance b/w apple and balls ➞ 4\n"
          ]
        }
      ]
    }
  ]
}